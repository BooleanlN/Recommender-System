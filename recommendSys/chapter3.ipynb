{
 "cells": [
  {
   "cell_type": "markdown",
   "metadata": {
    "collapsed": true,
    "pycharm": {
     "is_executing": false
    }
   },
   "source": [
    "#### 冷启动问题\n",
    "冷启动问题可分为3类：\n",
    "- 用户冷启动：对新用户的推荐\n",
    "- 物品冷启动：对新物品，推荐给用户\n",
    "- 系统冷启动：新网站，需要提供个性化推荐服务  \n",
    "常见的解决方案有：  \n",
    "- 热门推荐\n",
    "- 利用用户注册信息\n",
    "- 利用用户在其他网站的行为记录或社交信息\n",
    "- 在注册时，由用户选择个人的兴趣领域等\n",
    "- 对新加入物品，采用内容信息，寻找类似的历史物品，从而进行推荐\n",
    "- 系统冷启动，可以引入专家知识，建立起初步的物品相关度表"
   ]
  },
  {
   "cell_type": "markdown",
   "metadata": {},
   "source": [
    "##### 利用用户注册信息\n",
    "可以利用到的信息有人口统计学信息、用户兴趣描述以及从其他网站得到的用户信息。"
   ]
  },
  {
   "cell_type": "code",
   "execution_count": 1,
   "metadata": {
    "pycharm": {
     "is_executing": false
    }
   },
   "outputs": [],
   "source": [
    "import pandas as pd\n",
    "import matplotlib.pyplot as plt\n",
    "import numpy as np\n",
    "import seaborn as sns\n",
    "\n",
    "import os"
   ]
  },
  {
   "cell_type": "code",
   "execution_count": 2,
   "metadata": {
    "pycharm": {
     "is_executing": false
    }
   },
   "outputs": [],
   "source": [
    "def load_data(users_path,books_path,ratings_path):\n",
    "    def read_users():\n",
    "        \"\"\"(user_id,location,age)\"\"\"\n",
    "        u_cols = ['user_id','location','age']\n",
    "        users = pd.read_csv(users_path,sep=';', names=u_cols, encoding='latin-1',low_memory=False)\n",
    "        users = users.drop(users.index[0])\n",
    "        users['age'] = users['age'].astype(float)\n",
    "        users['user_id'] = users['user_id'].astype(int)\n",
    "        return users\n",
    "    def read_books():\n",
    "        book_cols = ['isbn', 'book_title' ,'book_author','year_of_publication', 'publisher', 'img_s', 'img_m', 'img_l']\n",
    "        \"\"\"(\"ISBN\";\"Book-Title\";\"Book-Author\";\"Year-Of-Publication\";\"Publisher\";\"Image-URL-S\";\"Image-URL-M\";\"Image-URL-L\")\"\"\"\n",
    "        books = pd.read_csv(books_path, sep=';', names=book_cols, encoding='latin-1',low_memory=False)\n",
    "        books = books.drop(books.index[0])\n",
    "        books['year_of_publication'] = books['year_of_publication'].astype(int)\n",
    "        return books\n",
    "    def read_ratings():\n",
    "        \"\"\" \"User-ID\";\"ISBN\";\"Book-Rating\"\"\"\n",
    "        rating_cols = ['user_id', 'isbn', 'rating']\n",
    "        ratings = pd.read_csv(ratings_path, sep=';', names=rating_cols, encoding='latin-1',low_memory=False)\n",
    "        ratings = ratings.drop(ratings.index[0])\n",
    "        ratings['user_id'] = ratings['user_id'].astype(int)\n",
    "        ratings['rating'] = ratings['rating'].astype(int)\n",
    "        return ratings\n",
    "    return read_users(),read_books(),read_ratings()"
   ]
  },
  {
   "cell_type": "code",
   "execution_count": 3,
   "metadata": {
    "pycharm": {
     "is_executing": true
    }
   },
   "outputs": [],
   "source": [
    "USERS_PATH = '../dataset/BXCrossing/BX-Users.csv'\n",
    "BOOKS_PATH = '../dataset/BXCrossing/BX_Books.csv'\n",
    "RATINGS_PATH = '../dataset/BXCrossing/BX-Book-Ratings.csv'\n",
    "users,books,ratings = load_data(USERS_PATH,BOOKS_PATH,RATINGS_PATH)"
   ]
  },
  {
   "cell_type": "code",
   "execution_count": 4,
   "metadata": {
    "pycharm": {
     "is_executing": true
    }
   },
   "outputs": [
    {
     "data": {
      "text/html": [
       "<div>\n",
       "<style scoped>\n",
       "    .dataframe tbody tr th:only-of-type {\n",
       "        vertical-align: middle;\n",
       "    }\n",
       "\n",
       "    .dataframe tbody tr th {\n",
       "        vertical-align: top;\n",
       "    }\n",
       "\n",
       "    .dataframe thead th {\n",
       "        text-align: right;\n",
       "    }\n",
       "</style>\n",
       "<table border=\"1\" class=\"dataframe\">\n",
       "  <thead>\n",
       "    <tr style=\"text-align: right;\">\n",
       "      <th></th>\n",
       "      <th>user_id</th>\n",
       "      <th>location</th>\n",
       "      <th>age</th>\n",
       "    </tr>\n",
       "  </thead>\n",
       "  <tbody>\n",
       "    <tr>\n",
       "      <th>1</th>\n",
       "      <td>1</td>\n",
       "      <td>nyc, new york, usa</td>\n",
       "      <td>NaN</td>\n",
       "    </tr>\n",
       "    <tr>\n",
       "      <th>2</th>\n",
       "      <td>2</td>\n",
       "      <td>stockton, california, usa</td>\n",
       "      <td>18.0</td>\n",
       "    </tr>\n",
       "    <tr>\n",
       "      <th>3</th>\n",
       "      <td>3</td>\n",
       "      <td>moscow, yukon territory, russia</td>\n",
       "      <td>NaN</td>\n",
       "    </tr>\n",
       "    <tr>\n",
       "      <th>4</th>\n",
       "      <td>4</td>\n",
       "      <td>porto, v.n.gaia, portugal</td>\n",
       "      <td>17.0</td>\n",
       "    </tr>\n",
       "    <tr>\n",
       "      <th>5</th>\n",
       "      <td>5</td>\n",
       "      <td>farnborough, hants, united kingdom</td>\n",
       "      <td>NaN</td>\n",
       "    </tr>\n",
       "  </tbody>\n",
       "</table>\n",
       "</div>"
      ],
      "text/plain": [
       "   user_id                            location   age\n",
       "1        1                  nyc, new york, usa   NaN\n",
       "2        2           stockton, california, usa  18.0\n",
       "3        3     moscow, yukon territory, russia   NaN\n",
       "4        4           porto, v.n.gaia, portugal  17.0\n",
       "5        5  farnborough, hants, united kingdom   NaN"
      ]
     },
     "execution_count": 4,
     "metadata": {},
     "output_type": "execute_result"
    }
   ],
   "source": [
    "users.head()"
   ]
  },
  {
   "cell_type": "code",
   "execution_count": 5,
   "metadata": {
    "pycharm": {
     "is_executing": true
    }
   },
   "outputs": [
    {
     "data": {
      "text/plain": [
       "user_id          0\n",
       "location         0\n",
       "age         110762\n",
       "dtype: int64"
      ]
     },
     "execution_count": 5,
     "metadata": {},
     "output_type": "execute_result"
    }
   ],
   "source": [
    "users.isnull().sum()"
   ]
  },
  {
   "cell_type": "code",
   "execution_count": 6,
   "metadata": {
    "pycharm": {
     "is_executing": true
    }
   },
   "outputs": [],
   "source": [
    "# 缺失值处理\n",
    "users.loc[(users.age > 99) | (users.age < 5),'age'] = np.nan\n",
    "users['age'] = users['age'].fillna(users['age'].mean())"
   ]
  },
  {
   "cell_type": "code",
   "execution_count": 7,
   "metadata": {
    "pycharm": {
     "is_executing": true
    }
   },
   "outputs": [
    {
     "data": {
      "text/plain": [
       "<matplotlib.axes._subplots.AxesSubplot at 0x7f9b2f636310>"
      ]
     },
     "execution_count": 7,
     "metadata": {},
     "output_type": "execute_result"
    },
    {
     "data": {
      "image/png": "[encoded data removed]",
      "text/plain": [
       "<Figure size 720x576 with 1 Axes>"
      ]
     },
     "metadata": {
      "needs_background": "light"
     },
     "output_type": "display_data"
    }
   ],
   "source": [
    "plot = plt.figure(figsize=(10,8))\n",
    "sns.distplot(users['age'],kde=False)"
   ]
  },
  {
   "cell_type": "code",
   "execution_count": 8,
   "metadata": {
    "pycharm": {
     "is_executing": true
    }
   },
   "outputs": [],
   "source": [
    "books.loc[books.book_author.isnull(),'book_author'] = 'Larissa Anne Downe'"
   ]
  },
  {
   "cell_type": "code",
   "execution_count": 9,
   "metadata": {
    "pycharm": {
     "is_executing": true
    }
   },
   "outputs": [
    {
     "data": {
      "text/html": [
       "<div>\n",
       "<style scoped>\n",
       "    .dataframe tbody tr th:only-of-type {\n",
       "        vertical-align: middle;\n",
       "    }\n",
       "\n",
       "    .dataframe tbody tr th {\n",
       "        vertical-align: top;\n",
       "    }\n",
       "\n",
       "    .dataframe thead th {\n",
       "        text-align: right;\n",
       "    }\n",
       "</style>\n",
       "<table border=\"1\" class=\"dataframe\">\n",
       "  <thead>\n",
       "    <tr style=\"text-align: right;\">\n",
       "      <th></th>\n",
       "      <th>isbn</th>\n",
       "      <th>book_title</th>\n",
       "      <th>book_author</th>\n",
       "      <th>year_of_publication</th>\n",
       "      <th>publisher</th>\n",
       "      <th>img_s</th>\n",
       "      <th>img_m</th>\n",
       "      <th>img_l</th>\n",
       "    </tr>\n",
       "  </thead>\n",
       "  <tbody>\n",
       "    <tr>\n",
       "      <th>128897</th>\n",
       "      <td>193169656X</td>\n",
       "      <td>Tyrant Moon</td>\n",
       "      <td>Elaine Corvidae</td>\n",
       "      <td>2002</td>\n",
       "      <td>NaN</td>\n",
       "      <td>http://images.amazon.com/images/P/193169656X.0...</td>\n",
       "      <td>http://images.amazon.com/images/P/193169656X.0...</td>\n",
       "      <td>http://images.amazon.com/images/P/193169656X.0...</td>\n",
       "    </tr>\n",
       "    <tr>\n",
       "      <th>129044</th>\n",
       "      <td>1931696993</td>\n",
       "      <td>Finders Keepers</td>\n",
       "      <td>Linnea Sinclair</td>\n",
       "      <td>2001</td>\n",
       "      <td>NaN</td>\n",
       "      <td>http://images.amazon.com/images/P/1931696993.0...</td>\n",
       "      <td>http://images.amazon.com/images/P/1931696993.0...</td>\n",
       "      <td>http://images.amazon.com/images/P/1931696993.0...</td>\n",
       "    </tr>\n",
       "  </tbody>\n",
       "</table>\n",
       "</div>"
      ],
      "text/plain": [
       "              isbn       book_title      book_author  year_of_publication  \\\n",
       "128897  193169656X      Tyrant Moon  Elaine Corvidae                 2002   \n",
       "129044  1931696993  Finders Keepers  Linnea Sinclair                 2001   \n",
       "\n",
       "       publisher                                              img_s  \\\n",
       "128897       NaN  http://images.amazon.com/images/P/193169656X.0...   \n",
       "129044       NaN  http://images.amazon.com/images/P/1931696993.0...   \n",
       "\n",
       "                                                    img_m  \\\n",
       "128897  http://images.amazon.com/images/P/193169656X.0...   \n",
       "129044  http://images.amazon.com/images/P/1931696993.0...   \n",
       "\n",
       "                                                    img_l  \n",
       "128897  http://images.amazon.com/images/P/193169656X.0...  \n",
       "129044  http://images.amazon.com/images/P/1931696993.0...  "
      ]
     },
     "execution_count": 9,
     "metadata": {},
     "output_type": "execute_result"
    }
   ],
   "source": [
    "books.loc[books.publisher.isnull()]"
   ]
  },
  {
   "cell_type": "code",
   "execution_count": 10,
   "metadata": {
    "pycharm": {
     "is_executing": true
    }
   },
   "outputs": [],
   "source": [
    "books.loc[books.isbn == '193169656X', 'publisher'] = 'Mundania Press LLC'\n",
    "books.loc[books.isbn == '1931696993', 'publisher'] = 'Novelbooks Incorporated'"
   ]
  },
  {
   "cell_type": "code",
   "execution_count": 11,
   "metadata": {
    "pycharm": {
     "is_executing": true
    }
   },
   "outputs": [
    {
     "data": {
      "text/plain": [
       "isbn                   0\n",
       "book_title             0\n",
       "book_author            0\n",
       "year_of_publication    0\n",
       "publisher              0\n",
       "img_s                  0\n",
       "img_m                  0\n",
       "img_l                  0\n",
       "dtype: int64"
      ]
     },
     "execution_count": 11,
     "metadata": {},
     "output_type": "execute_result"
    }
   ],
   "source": [
    "books.loc[books.img_l.isnull(),'img_l'] = books.img_m\n",
    "books.isnull().sum()"
   ]
  },
  {
   "cell_type": "code",
   "execution_count": 12,
   "metadata": {
    "pycharm": {
     "is_executing": true
    }
   },
   "outputs": [
    {
     "data": {
      "text/plain": [
       "array([2002, 2001, 1991, 1999, 2000, 1993, 1996, 1988, 2004, 1998, 1994,\n",
       "       2003, 1997, 1983, 1979, 1995, 1982, 1985, 1992, 1986, 1978, 1980,\n",
       "       1952, 1987, 1990, 1981, 1989, 1984,    0, 1968, 1961, 1958, 1974,\n",
       "       1976, 1971, 1977, 1975, 1965, 1941, 1970, 1962, 1973, 1972, 1960,\n",
       "       1966, 1920, 1956, 1959, 1953, 1951, 1942, 1963, 1964, 1969, 1954,\n",
       "       1950, 1967, 2005, 1957, 1940, 1937, 1955, 1946, 1936, 1930, 2011,\n",
       "       1925, 1948, 1943, 1947, 1945, 1923, 2020, 1939, 1926, 1938, 2030,\n",
       "       1911, 1904, 1949, 1932, 1928, 1929, 1927, 1931, 1914, 2050, 1934,\n",
       "       1910, 1933, 1902, 1924, 1921, 1900, 2038, 2026, 1944, 1917, 1901,\n",
       "       2010, 1908, 1906, 1935, 1806, 2021, 2012, 2006, 1909, 2008, 1378,\n",
       "       1919, 1922, 1897, 2024, 1376, 2037])"
      ]
     },
     "execution_count": 12,
     "metadata": {},
     "output_type": "execute_result"
    }
   ],
   "source": [
    "books['year_of_publication'].unique()"
   ]
  },
  {
   "cell_type": "code",
   "execution_count": 13,
   "metadata": {
    "pycharm": {
     "is_executing": true
    }
   },
   "outputs": [],
   "source": [
    "books.loc[(books.year_of_publication == 0)|(books.year_of_publication > 2008),'year_of_publication'] = np.nan\n",
    "books.year_of_publication = books.year_of_publication.fillna(round(books.year_of_publication.mean()))"
   ]
  },
  {
   "cell_type": "code",
   "execution_count": 14,
   "metadata": {
    "pycharm": {
     "is_executing": true
    }
   },
   "outputs": [
    {
     "data": {
      "text/plain": [
       "array([2002., 2001., 1991., 1999., 2000., 1993., 1996., 1988., 2004.,\n",
       "       1998., 1994., 2003., 1997., 1983., 1979., 1995., 1982., 1985.,\n",
       "       1992., 1986., 1978., 1980., 1952., 1987., 1990., 1981., 1989.,\n",
       "       1984., 1968., 1961., 1958., 1974., 1976., 1971., 1977., 1975.,\n",
       "       1965., 1941., 1970., 1962., 1973., 1972., 1960., 1966., 1920.,\n",
       "       1956., 1959., 1953., 1951., 1942., 1963., 1964., 1969., 1954.,\n",
       "       1950., 1967., 2005., 1957., 1940., 1937., 1955., 1946., 1936.,\n",
       "       1930., 1925., 1948., 1943., 1947., 1945., 1923., 1939., 1926.,\n",
       "       1938., 1911., 1904., 1949., 1932., 1928., 1929., 1927., 1931.,\n",
       "       1914., 1934., 1910., 1933., 1902., 1924., 1921., 1900., 1944.,\n",
       "       1917., 1901., 1908., 1906., 1935., 1806., 2006., 1909., 2008.,\n",
       "       1378., 1919., 1922., 1897., 1376.])"
      ]
     },
     "execution_count": 14,
     "metadata": {},
     "output_type": "execute_result"
    }
   ],
   "source": [
    "books['year_of_publication'].unique()"
   ]
  },
  {
   "cell_type": "code",
   "execution_count": 15,
   "metadata": {
    "pycharm": {
     "is_executing": true
    }
   },
   "outputs": [
    {
     "data": {
      "text/html": [
       "<div>\n",
       "<style scoped>\n",
       "    .dataframe tbody tr th:only-of-type {\n",
       "        vertical-align: middle;\n",
       "    }\n",
       "\n",
       "    .dataframe tbody tr th {\n",
       "        vertical-align: top;\n",
       "    }\n",
       "\n",
       "    .dataframe thead th {\n",
       "        text-align: right;\n",
       "    }\n",
       "</style>\n",
       "<table border=\"1\" class=\"dataframe\">\n",
       "  <thead>\n",
       "    <tr style=\"text-align: right;\">\n",
       "      <th></th>\n",
       "      <th>user_id</th>\n",
       "      <th>location</th>\n",
       "      <th>age</th>\n",
       "      <th>isbn</th>\n",
       "      <th>rating</th>\n",
       "      <th>book_title</th>\n",
       "      <th>book_author</th>\n",
       "      <th>year_of_publication</th>\n",
       "      <th>publisher</th>\n",
       "      <th>img_s</th>\n",
       "      <th>img_m</th>\n",
       "      <th>img_l</th>\n",
       "    </tr>\n",
       "  </thead>\n",
       "  <tbody>\n",
       "    <tr>\n",
       "      <th>0</th>\n",
       "      <td>2</td>\n",
       "      <td>stockton, california, usa</td>\n",
       "      <td>18.0000</td>\n",
       "      <td>0195153448</td>\n",
       "      <td>0</td>\n",
       "      <td>Classical Mythology</td>\n",
       "      <td>Mark P. O. Morford</td>\n",
       "      <td>2002.0</td>\n",
       "      <td>Oxford University Press</td>\n",
       "      <td>http://images.amazon.com/images/P/0195153448.0...</td>\n",
       "      <td>http://images.amazon.com/images/P/0195153448.0...</td>\n",
       "      <td>http://images.amazon.com/images/P/0195153448.0...</td>\n",
       "    </tr>\n",
       "    <tr>\n",
       "      <th>1</th>\n",
       "      <td>8</td>\n",
       "      <td>timmins, ontario, canada</td>\n",
       "      <td>34.7439</td>\n",
       "      <td>0002005018</td>\n",
       "      <td>5</td>\n",
       "      <td>Clara Callan</td>\n",
       "      <td>Richard Bruce Wright</td>\n",
       "      <td>2001.0</td>\n",
       "      <td>HarperFlamingo Canada</td>\n",
       "      <td>http://images.amazon.com/images/P/0002005018.0...</td>\n",
       "      <td>http://images.amazon.com/images/P/0002005018.0...</td>\n",
       "      <td>http://images.amazon.com/images/P/0002005018.0...</td>\n",
       "    </tr>\n",
       "    <tr>\n",
       "      <th>2</th>\n",
       "      <td>11400</td>\n",
       "      <td>ottawa, ontario, canada</td>\n",
       "      <td>49.0000</td>\n",
       "      <td>0002005018</td>\n",
       "      <td>0</td>\n",
       "      <td>Clara Callan</td>\n",
       "      <td>Richard Bruce Wright</td>\n",
       "      <td>2001.0</td>\n",
       "      <td>HarperFlamingo Canada</td>\n",
       "      <td>http://images.amazon.com/images/P/0002005018.0...</td>\n",
       "      <td>http://images.amazon.com/images/P/0002005018.0...</td>\n",
       "      <td>http://images.amazon.com/images/P/0002005018.0...</td>\n",
       "    </tr>\n",
       "    <tr>\n",
       "      <th>3</th>\n",
       "      <td>11676</td>\n",
       "      <td>n/a, n/a, n/a</td>\n",
       "      <td>34.7439</td>\n",
       "      <td>0002005018</td>\n",
       "      <td>8</td>\n",
       "      <td>Clara Callan</td>\n",
       "      <td>Richard Bruce Wright</td>\n",
       "      <td>2001.0</td>\n",
       "      <td>HarperFlamingo Canada</td>\n",
       "      <td>http://images.amazon.com/images/P/0002005018.0...</td>\n",
       "      <td>http://images.amazon.com/images/P/0002005018.0...</td>\n",
       "      <td>http://images.amazon.com/images/P/0002005018.0...</td>\n",
       "    </tr>\n",
       "    <tr>\n",
       "      <th>4</th>\n",
       "      <td>41385</td>\n",
       "      <td>sudbury, ontario, canada</td>\n",
       "      <td>34.7439</td>\n",
       "      <td>0002005018</td>\n",
       "      <td>0</td>\n",
       "      <td>Clara Callan</td>\n",
       "      <td>Richard Bruce Wright</td>\n",
       "      <td>2001.0</td>\n",
       "      <td>HarperFlamingo Canada</td>\n",
       "      <td>http://images.amazon.com/images/P/0002005018.0...</td>\n",
       "      <td>http://images.amazon.com/images/P/0002005018.0...</td>\n",
       "      <td>http://images.amazon.com/images/P/0002005018.0...</td>\n",
       "    </tr>\n",
       "  </tbody>\n",
       "</table>\n",
       "</div>"
      ],
      "text/plain": [
       "   user_id                   location      age        isbn  rating  \\\n",
       "0        2  stockton, california, usa  18.0000  0195153448       0   \n",
       "1        8   timmins, ontario, canada  34.7439  0002005018       5   \n",
       "2    11400    ottawa, ontario, canada  49.0000  0002005018       0   \n",
       "3    11676              n/a, n/a, n/a  34.7439  0002005018       8   \n",
       "4    41385   sudbury, ontario, canada  34.7439  0002005018       0   \n",
       "\n",
       "            book_title           book_author  year_of_publication  \\\n",
       "0  Classical Mythology    Mark P. O. Morford               2002.0   \n",
       "1         Clara Callan  Richard Bruce Wright               2001.0   \n",
       "2         Clara Callan  Richard Bruce Wright               2001.0   \n",
       "3         Clara Callan  Richard Bruce Wright               2001.0   \n",
       "4         Clara Callan  Richard Bruce Wright               2001.0   \n",
       "\n",
       "                 publisher                                              img_s  \\\n",
       "0  Oxford University Press  http://images.amazon.com/images/P/0195153448.0...   \n",
       "1    HarperFlamingo Canada  http://images.amazon.com/images/P/0002005018.0...   \n",
       "2    HarperFlamingo Canada  http://images.amazon.com/images/P/0002005018.0...   \n",
       "3    HarperFlamingo Canada  http://images.amazon.com/images/P/0002005018.0...   \n",
       "4    HarperFlamingo Canada  http://images.amazon.com/images/P/0002005018.0...   \n",
       "\n",
       "                                               img_m  \\\n",
       "0  http://images.amazon.com/images/P/0195153448.0...   \n",
       "1  http://images.amazon.com/images/P/0002005018.0...   \n",
       "2  http://images.amazon.com/images/P/0002005018.0...   \n",
       "3  http://images.amazon.com/images/P/0002005018.0...   \n",
       "4  http://images.amazon.com/images/P/0002005018.0...   \n",
       "\n",
       "                                               img_l  \n",
       "0  http://images.amazon.com/images/P/0195153448.0...  \n",
       "1  http://images.amazon.com/images/P/0002005018.0...  \n",
       "2  http://images.amazon.com/images/P/0002005018.0...  \n",
       "3  http://images.amazon.com/images/P/0002005018.0...  \n",
       "4  http://images.amazon.com/images/P/0002005018.0...  "
      ]
     },
     "execution_count": 15,
     "metadata": {},
     "output_type": "execute_result"
    }
   ],
   "source": [
    "df = pd.merge(users,ratings,on='user_id')\n",
    "df = pd.merge(df,books,on='isbn')\n",
    "df.head()"
   ]
  },
  {
   "cell_type": "code",
   "execution_count": 16,
   "metadata": {
    "pycharm": {
     "is_executing": true
    }
   },
   "outputs": [
    {
     "data": {
      "text/plain": [
       "(1031175, 12)"
      ]
     },
     "execution_count": 16,
     "metadata": {},
     "output_type": "execute_result"
    }
   ],
   "source": [
    "df.shape"
   ]
  },
  {
   "cell_type": "markdown",
   "metadata": {},
   "source": [
    "针对不同年龄阶段读者，选择最热门的5本书，进行推荐。  \n",
    "根据推荐结果，其中，针对50岁以上的推荐结果并不能反应真实的兴趣。\n",
    "$$\n",
    "p(f,i) = |N(i)\\cap U(f)|\n",
    "$$"
   ]
  },
  {
   "cell_type": "code",
   "execution_count": 25,
   "metadata": {
    "pycharm": {
     "is_executing": true
    }
   },
   "outputs": [
    {
     "data": {
      "text/plain": [
       "['Wild Animus',\n",
       " 'The Lovely Bones: A Novel',\n",
       " 'The Catcher in the Rye',\n",
       " \"Harry Potter and the Sorcerer's Stone (Harry Potter (Paperback))\",\n",
       " 'Harry Potter and the Chamber of Secrets (Book 2)']"
      ]
     },
     "execution_count": 25,
     "metadata": {},
     "output_type": "execute_result"
    }
   ],
   "source": [
    "df.loc[df.age < 25,'book_title'].value_counts()[:5].index.tolist()"
   ]
  },
  {
   "cell_type": "code",
   "execution_count": 26,
   "metadata": {},
   "outputs": [
    {
     "data": {
      "text/plain": [
       "['Wild Animus',\n",
       " 'The Da Vinci Code',\n",
       " 'The Lovely Bones: A Novel',\n",
       " 'A Painted House',\n",
       " 'Angels & Demons']"
      ]
     },
     "execution_count": 26,
     "metadata": {},
     "output_type": "execute_result"
    }
   ],
   "source": [
    "df.loc[df.age > 50,'book_title'].value_counts()[:5].index.tolist()"
   ]
  },
  {
   "cell_type": "markdown",
   "metadata": {},
   "source": [
    "对热门物品，添加惩罚，提高覆盖率。\n",
    "$$\n",
    "p(f,i) = \\frac{|N(i)\\cap U(f)|}{|N(i)|+\\alpha}\n",
    "$$\n",
    "à是一个比较大的数字，避免出现因为数据稀疏而导致的结果为1的情况。"
   ]
  },
  {
   "cell_type": "code",
   "execution_count": 52,
   "metadata": {},
   "outputs": [
    {
     "data": {
      "text/plain": [
       "2502"
      ]
     },
     "execution_count": 52,
     "metadata": {},
     "output_type": "execute_result"
    }
   ],
   "source": [
    "Ni = df.book_title.value_counts()\n",
    "Ni['Wild Animus']"
   ]
  },
  {
   "cell_type": "code",
   "execution_count": 58,
   "metadata": {},
   "outputs": [
    {
     "data": {
      "text/plain": [
       "[('Lost Light', 0.16666666666666666),\n",
       " ('The Wailing Wind', 0.1552511415525114),\n",
       " ('A Thief of Time (Joe Leaphorn/Jim Chee Novels)', 0.15135135135135136),\n",
       " ('Dead Aim', 0.1507537688442211),\n",
       " ('Chasing the Dime', 0.14953271028037382),\n",
       " ('The King of Torts', 0.14695340501792115),\n",
       " ('Deception Point', 0.1464088397790055),\n",
       " ('The Beach House', 0.1383177570093458),\n",
       " ('Dark Horse', 0.1368421052631579),\n",
       " ('Q Is for Quarry', 0.13662790697674418)]"
      ]
     },
     "execution_count": 58,
     "metadata": {},
     "output_type": "execute_result"
    }
   ],
   "source": [
    "U50 = df.loc[df.age > 50,'book_title'].value_counts()\n",
    "sorted([(key,v/(Ni[key]+100)) for key,v in U50.items()],key=lambda b:b[1],reverse=True)[:10]"
   ]
  },
  {
   "cell_type": "code",
   "execution_count": 57,
   "metadata": {},
   "outputs": [
    {
     "data": {
      "text/plain": [
       "[('The Perks of Being a Wallflower', 0.24019607843137256),\n",
       " ('And Then There Were None : A Novel', 0.22674418604651161),\n",
       " ('1984', 0.2109375),\n",
       " ('Chicken Soup for the Teenage Soul (Chicken Soup for the Soul)',\n",
       "  0.2088888888888889),\n",
       " ('The Great Gatsby', 0.20327868852459016),\n",
       " ('The Catcher in the Rye', 0.20218579234972678),\n",
       " ('Wild Animus', 0.19446579554189086),\n",
       " ('Lord of the Flies', 0.19220055710306408),\n",
       " ('Animal Farm', 0.1921921921921922),\n",
       " ('The Giver (21st Century Reference)', 0.1863799283154122)]"
      ]
     },
     "execution_count": 57,
     "metadata": {},
     "output_type": "execute_result"
    }
   ],
   "source": [
    "U25 = df.loc[df.age < 25,'book_title'].value_counts()\n",
    "sorted([(key,v/(Ni[key]+100)) for key,v in U25.items()],key=lambda b:b[1],reverse=True)[:10]"
   ]
  },
  {
   "cell_type": "code",
   "execution_count": null,
   "metadata": {},
   "outputs": [],
   "source": []
  }
 ],
 "metadata": {
  "kernelspec": {
   "display_name": "Python 3",
   "language": "python",
   "name": "python3"
  },
  "language_info": {
   "codemirror_mode": {
    "name": "ipython",
    "version": 3
   },
   "file_extension": ".py",
   "mimetype": "text/x-python",
   "name": "python",
   "nbconvert_exporter": "python",
   "pygments_lexer": "ipython3",
   "version": "3.7.6"
  }
 },
 "nbformat": 4,
 "nbformat_minor": 1
}
