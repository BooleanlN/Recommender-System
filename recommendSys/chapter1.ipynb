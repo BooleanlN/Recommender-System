{
 "cells": [
  {
   "cell_type": "markdown",
   "metadata": {
    "collapsed": true,
    "pycharm": {
     "is_executing": false
    }
   },
   "source": [
    "### 推荐系统评价指标"
   ]
  },
  {
   "cell_type": "markdown",
   "metadata": {},
   "source": [
    "#### 推荐系统实验方法\n",
    "- 离线实验 <br>\n",
    "在数据集上完成，不需要真实用户参与，快速、方便地测试大量算法，缺点是无法获得很多商业上关注的指标。\n",
    "- 用户调查 <br>\n",
    "需要真实用户，令其在需要测试对推荐系统上完成一些任务，通过其行为及答案，分析测试系统性能。成本高\n",
    "- 在线实验 <br>\n",
    "AB测试：通过一定规则将用户随机分为几组，并对不同组对用户采用不同的算法，然后通过统计不同组用户的各种不同评测指标比较不同算法。\n",
    "在使用AB测试时，通常需要进行切分流量，对用户进行不同层的分割，不同层之间的流量是正交的。"
   ]
  },
  {
   "cell_type": "markdown",
   "metadata": {},
   "source": [
    "#### 评测指标\n",
    "- 用户满意度\n",
    "- 预测准确度\n",
    " - 评分预测\n",
    "  - RMSE 均方根误差\n",
    "  - MAE 平均绝对误差\n",
    " - TopN推荐\n",
    "- 覆盖率\n",
    "衡量一个推荐系统对物品长尾的发掘能力。有两个著名的指标可以用来定义覆盖率：<br>\n",
    " - 信息熵\n",
    " - 基尼指数\n",
    "- 多样性\n",
    "- 新颖性\n",
    "- 惊喜度\n",
    "- 信任度\n",
    "- 实时性\n",
    "- 健壮性：选择代价高的行为\n",
    "- 商业目标"
   ]
  },
  {
   "cell_type": "markdown",
   "metadata": {},
   "source": [
    "#### 评测维度\n",
    "- 用户维度\n",
    "- 物品维度\n",
    "- 时间维度"
   ]
  },
  {
   "cell_type": "code",
   "execution_count": null,
   "metadata": {},
   "outputs": [],
   "source": []
  }
 ],
 "metadata": {
  "kernelspec": {
   "display_name": "Python 3",
   "language": "python",
   "name": "python3"
  },
  "language_info": {
   "codemirror_mode": {
    "name": "ipython",
    "version": 3
   },
   "file_extension": ".py",
   "mimetype": "text/x-python",
   "name": "python",
   "nbconvert_exporter": "python",
   "pygments_lexer": "ipython3",
   "version": "3.7.6"
  }
 },
 "nbformat": 4,
 "nbformat_minor": 1
}
