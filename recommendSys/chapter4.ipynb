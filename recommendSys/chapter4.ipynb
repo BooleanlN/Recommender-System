{
 "cells": [
  {
   "cell_type": "markdown",
   "metadata": {},
   "source": [
    "#### 利用用户标签数据\n",
    "标签是一种无层次化结构的、用来描述信息的关键词，它可以用来描述物品的语义。标签一方面可以体现用户的兴趣，另一方面表示了物品的语义。通过标签可以将物品与用户联系起来。"
   ]
  },
  {
   "cell_type": "code",
   "execution_count": 51,
   "metadata": {},
   "outputs": [],
   "source": [
    "import pandas as pd\n",
    "import numpy as np\n",
    "import matplotlib.pyplot as plt\n",
    "import seaborn as sns\n",
    "from matplotlib.pyplot import MultipleLocator"
   ]
  },
  {
   "cell_type": "code",
   "execution_count": 22,
   "metadata": {},
   "outputs": [],
   "source": [
    "def load_data(paths):\n",
    "    def read_tags():\n",
    "        \"\"\"(tag_id,value)\"\"\"\n",
    "        tag_cols = ['tag_id','val']\n",
    "        return pd.read_csv(paths['tags'],sep='\\t',names=tag_cols,engine='python')\n",
    "    def read_bkmarks():\n",
    "        \"\"\"id\tmd5\ttitle\turl\tmd5Principal\turlPrincipal\"\"\"\n",
    "        mk_cols = ['mk_id','md5','title','url','md5Principal','urlPrincipal']\n",
    "        return pd.read_csv(paths['bkmarks'],sep='\\t',names=mk_cols,engine='python')\n",
    "    def read_user_tag_bkmks():\n",
    "        \"\"\"userID\tbookmarkID\ttagID\tday\tmonth\tyear\thour\tminute\tsecond\"\"\"\n",
    "        utb_cols = ['user_id','mk_id','tag_id','day','month','year','hour','minute','second']\n",
    "        return pd.read_csv(paths['utbs'],sep='\\t',names=utb_cols,engine='python')\n",
    "    return read_tags(),read_bkmarks(),read_user_tag_bkmks()"
   ]
  },
  {
   "cell_type": "code",
   "execution_count": 23,
   "metadata": {},
   "outputs": [],
   "source": [
    "paths = {\n",
    "    'tags': '../dataset/delicious-2k/tags.dat',\n",
    "    'bkmarks': '../dataset/delicious-2k/bookmarks.dat',\n",
    "    'utbs': '../dataset/delicious-2k/user_taggedbookmarks.dat',\n",
    "}\n",
    "tags,bkmarks,utbks = load_data(paths)"
   ]
  },
  {
   "cell_type": "code",
   "execution_count": 24,
   "metadata": {},
   "outputs": [],
   "source": [
    "tags = tags.drop(0)\n",
    "bkmarks = bkmarks.drop(0)\n",
    "utbks = utbks.drop(0)"
   ]
  },
  {
   "cell_type": "markdown",
   "metadata": {},
   "source": [
    "标签的流行度分布呈现非常典型的长尾分布。"
   ]
  },
  {
   "cell_type": "code",
   "execution_count": 26,
   "metadata": {},
   "outputs": [
    {
     "data": {
      "text/html": [
       "<div>\n",
       "<style scoped>\n",
       "    .dataframe tbody tr th:only-of-type {\n",
       "        vertical-align: middle;\n",
       "    }\n",
       "\n",
       "    .dataframe tbody tr th {\n",
       "        vertical-align: top;\n",
       "    }\n",
       "\n",
       "    .dataframe thead th {\n",
       "        text-align: right;\n",
       "    }\n",
       "</style>\n",
       "<table border=\"1\" class=\"dataframe\">\n",
       "  <thead>\n",
       "    <tr style=\"text-align: right;\">\n",
       "      <th></th>\n",
       "      <th>tag_id</th>\n",
       "      <th>val</th>\n",
       "    </tr>\n",
       "  </thead>\n",
       "  <tbody>\n",
       "    <tr>\n",
       "      <th>1</th>\n",
       "      <td>1</td>\n",
       "      <td>collection_development</td>\n",
       "    </tr>\n",
       "    <tr>\n",
       "      <th>2</th>\n",
       "      <td>2</td>\n",
       "      <td>library</td>\n",
       "    </tr>\n",
       "    <tr>\n",
       "      <th>3</th>\n",
       "      <td>3</td>\n",
       "      <td>collection</td>\n",
       "    </tr>\n",
       "    <tr>\n",
       "      <th>4</th>\n",
       "      <td>4</td>\n",
       "      <td>development</td>\n",
       "    </tr>\n",
       "    <tr>\n",
       "      <th>5</th>\n",
       "      <td>5</td>\n",
       "      <td>lesson_plan</td>\n",
       "    </tr>\n",
       "  </tbody>\n",
       "</table>\n",
       "</div>"
      ],
      "text/plain": [
       "  tag_id                     val\n",
       "1      1  collection_development\n",
       "2      2                 library\n",
       "3      3              collection\n",
       "4      4             development\n",
       "5      5             lesson_plan"
      ]
     },
     "execution_count": 26,
     "metadata": {},
     "output_type": "execute_result"
    }
   ],
   "source": [
    "tags.head()"
   ]
  },
  {
   "cell_type": "code",
   "execution_count": 39,
   "metadata": {},
   "outputs": [],
   "source": [
    "tag_static_pr = utbks['tag_id'].value_counts()\n",
    "tag_static_x = tag_static_pr.unique()\n",
    "tag_static_y = []\n",
    "tag_static_pr = tag_static_pr.tolist()\n",
    "for x in tag_static_x:\n",
    "    tag_static_y.append(tag_static_pr.count(x))"
   ]
  },
  {
   "cell_type": "code",
   "execution_count": 61,
   "metadata": {},
   "outputs": [
    {
     "data": {
      "text/plain": [
       "(1, 1000)"
      ]
     },
     "execution_count": 61,
     "metadata": {},
     "output_type": "execute_result"
    },
    {
     "data": {
      "image/png": "[encoded data removed]",
      "text/plain": [
       "<Figure size 864x432 with 1 Axes>"
      ]
     },
     "metadata": {
      "needs_background": "light"
     },
     "output_type": "display_data"
    }
   ],
   "source": [
    "tag_static = []\n",
    "fig = plt.figure(figsize=(12,6))\n",
    "sns.scatterplot(x=tag_static_x,y=tag_static_y)\n",
    "plt.xlim(0,1000)\n",
    "plt.ylim(1,1000)"
   ]
  },
  {
   "cell_type": "code",
   "execution_count": 87,
   "metadata": {},
   "outputs": [
    {
     "data": {
      "text/plain": [
       "[121    design\n",
       " Name: val, dtype: object, 198    tools\n",
       " Name: val, dtype: object, 142    video\n",
       " Name: val, dtype: object, 36    education\n",
       " Name: val, dtype: object, 155    art\n",
       " Name: val, dtype: object, 433    webdesign\n",
       " Name: val, dtype: object, 220    web\n",
       " Name: val, dtype: object, 173    web20\n",
       " Name: val, dtype: object, 96    twitter\n",
       " Name: val, dtype: object, 342    blog\n",
       " Name: val, dtype: object, 205    reference\n",
       " Name: val, dtype: object, 158    google\n",
       " Name: val, dtype: object, 68    technology\n",
       " Name: val, dtype: object, 118    inspiration\n",
       " Name: val, dtype: object, 4    development\n",
       " Name: val, dtype: object, 874    javascript\n",
       " Name: val, dtype: object, 531    programming\n",
       " Name: val, dtype: object, 52    writing\n",
       " Name: val, dtype: object, 399    software\n",
       " Name: val, dtype: object, 145    music\n",
       " Name: val, dtype: object]"
      ]
     },
     "execution_count": 87,
     "metadata": {},
     "output_type": "execute_result"
    }
   ],
   "source": [
    "tags_more_popular = utbks['tag_id'].value_counts()[:20]\n",
    "[tags.loc[tags.tag_id == key, 'val']. for key,v in tags_more_popular.items()]"
   ]
  },
  {
   "cell_type": "markdown",
   "metadata": {},
   "source": [
    "最简单的推荐方式：  \n",
    "统计用户最常用标签，对每个标签，统计该标签下，最常见的物品，进行推荐。\n",
    "$$\n",
    "p(u,i) = \\sum_b{n_{u,b}n_{b,i}}\n",
    "$$\n",
    "Nub表示用户u对标签b的次数，Nbi是物品i被打上标签b的次数"
   ]
  },
  {
   "cell_type": "code",
   "execution_count": null,
   "metadata": {},
   "outputs": [],
   "source": []
  }
 ],
 "metadata": {
  "kernelspec": {
   "display_name": "Python 3",
   "language": "python",
   "name": "python3"
  },
  "language_info": {
   "codemirror_mode": {
    "name": "ipython",
    "version": 3
   },
   "file_extension": ".py",
   "mimetype": "text/x-python",
   "name": "python",
   "nbconvert_exporter": "python",
   "pygments_lexer": "ipython3",
   "version": "3.7.6"
  }
 },
 "nbformat": 4,
 "nbformat_minor": 4
}
