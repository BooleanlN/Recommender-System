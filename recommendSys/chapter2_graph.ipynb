{
 "cells": [
  {
   "cell_type": "markdown",
   "metadata": {},
   "source": [
    "#### 基于图的模型\n",
    "将用户数据行为表示为图的形式，用户行为是由一系列二元组组成的，其中每个二元组（u,i）表示用户u对物品i产生过行为。  \n",
    "之后，对于用户u的推荐，就转变为度量结点u与物品结点v之间相关性的问题，相关性越高，推荐的权重越高。"
   ]
  },
  {
   "cell_type": "markdown",
   "metadata": {},
   "source": [
    "###### PersonalRank算法\n",
    "在图模型上随机游走，从用户结点u开始，游走到任何一个结点，按照概率à决定继续游走，或者停止游走，并从u重新开始。  \n",
    "当继续游走时，从当前结点指向的结点中，按照均匀分布随机选择一个结点作为游走路径经过的点，经过多次随机游走，每个物品节点被访问到的概率会收敛到一个数。\n",
    "$$\n",
    "PR(v) = \\left\\{\n",
    "\\begin{array}{lr}\n",
    "    \\alpha \\sum_{v' \\in (v)}\\frac{PR(v')}{|out(v')|} (v != v_u) \\\\\n",
    "    (1-\\alpha) + \\alpha \\sum_{v' \\in (v)}\\frac{PR(v')}{|out(v')|} (v == v_u)\n",
    "   \\end{array}\n",
    "   \\right.\n",
    "$$"
   ]
  },
  {
   "cell_type": "code",
   "execution_count": null,
   "metadata": {},
   "outputs": [],
   "source": []
  }
 ],
 "metadata": {
  "kernelspec": {
   "display_name": "Python 3",
   "language": "python",
   "name": "python3"
  },
  "language_info": {
   "codemirror_mode": {
    "name": "ipython",
    "version": 3
   },
   "file_extension": ".py",
   "mimetype": "text/x-python",
   "name": "python",
   "nbconvert_exporter": "python",
   "pygments_lexer": "ipython3",
   "version": "3.7.6"
  }
 },
 "nbformat": 4,
 "nbformat_minor": 4
}
